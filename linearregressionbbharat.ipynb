{
 "cells": [
  {
   "cell_type": "code",
   "execution_count": 29,
   "id": "1a518afc",
   "metadata": {},
   "outputs": [],
   "source": [
    "import pandas as pd\n",
    "import matplotlib.pyplot as plt"
   ]
  },
  {
   "cell_type": "code",
   "execution_count": 30,
   "id": "4da5636c",
   "metadata": {},
   "outputs": [
    {
     "data": {
      "text/html": [
       "<div>\n",
       "<style scoped>\n",
       "    .dataframe tbody tr th:only-of-type {\n",
       "        vertical-align: middle;\n",
       "    }\n",
       "\n",
       "    .dataframe tbody tr th {\n",
       "        vertical-align: top;\n",
       "    }\n",
       "\n",
       "    .dataframe thead th {\n",
       "        text-align: right;\n",
       "    }\n",
       "</style>\n",
       "<table border=\"1\" class=\"dataframe\">\n",
       "  <thead>\n",
       "    <tr style=\"text-align: right;\">\n",
       "      <th></th>\n",
       "      <th>1</th>\n",
       "      <th>2</th>\n",
       "    </tr>\n",
       "  </thead>\n",
       "  <tbody>\n",
       "    <tr>\n",
       "      <th>0</th>\n",
       "      <td>5.5277</td>\n",
       "      <td>9.13020</td>\n",
       "    </tr>\n",
       "    <tr>\n",
       "      <th>1</th>\n",
       "      <td>8.5186</td>\n",
       "      <td>13.66200</td>\n",
       "    </tr>\n",
       "    <tr>\n",
       "      <th>2</th>\n",
       "      <td>7.0032</td>\n",
       "      <td>11.85400</td>\n",
       "    </tr>\n",
       "    <tr>\n",
       "      <th>3</th>\n",
       "      <td>5.8598</td>\n",
       "      <td>6.82330</td>\n",
       "    </tr>\n",
       "    <tr>\n",
       "      <th>4</th>\n",
       "      <td>8.3829</td>\n",
       "      <td>11.88600</td>\n",
       "    </tr>\n",
       "    <tr>\n",
       "      <th>...</th>\n",
       "      <td>...</td>\n",
       "      <td>...</td>\n",
       "    </tr>\n",
       "    <tr>\n",
       "      <th>91</th>\n",
       "      <td>5.8707</td>\n",
       "      <td>7.20290</td>\n",
       "    </tr>\n",
       "    <tr>\n",
       "      <th>92</th>\n",
       "      <td>5.3054</td>\n",
       "      <td>1.98690</td>\n",
       "    </tr>\n",
       "    <tr>\n",
       "      <th>93</th>\n",
       "      <td>8.2934</td>\n",
       "      <td>0.14454</td>\n",
       "    </tr>\n",
       "    <tr>\n",
       "      <th>94</th>\n",
       "      <td>13.3940</td>\n",
       "      <td>9.05510</td>\n",
       "    </tr>\n",
       "    <tr>\n",
       "      <th>95</th>\n",
       "      <td>5.4369</td>\n",
       "      <td>0.61705</td>\n",
       "    </tr>\n",
       "  </tbody>\n",
       "</table>\n",
       "<p>96 rows × 2 columns</p>\n",
       "</div>"
      ],
      "text/plain": [
       "          1         2\n",
       "0    5.5277   9.13020\n",
       "1    8.5186  13.66200\n",
       "2    7.0032  11.85400\n",
       "3    5.8598   6.82330\n",
       "4    8.3829  11.88600\n",
       "..      ...       ...\n",
       "91   5.8707   7.20290\n",
       "92   5.3054   1.98690\n",
       "93   8.2934   0.14454\n",
       "94  13.3940   9.05510\n",
       "95   5.4369   0.61705\n",
       "\n",
       "[96 rows x 2 columns]"
      ]
     },
     "execution_count": 30,
     "metadata": {},
     "output_type": "execute_result"
    }
   ],
   "source": [
    "df=pd.read_csv(\"Food-Truck-LineReg.csv\")\n",
    "df"
   ]
  },
  {
   "cell_type": "code",
   "execution_count": 32,
   "id": "3d48f22b",
   "metadata": {
    "scrolled": true
   },
   "outputs": [
    {
     "data": {
      "image/png": "[encoded data removed]",
      "text/plain": [
       "<Figure size 640x480 with 1 Axes>"
      ]
     },
     "metadata": {},
     "output_type": "display_data"
    }
   ],
   "source": [
    "plt.scatter(df['1'],df['2'])\n",
    "plt.show()"
   ]
  },
  {
   "cell_type": "code",
   "execution_count": 33,
   "id": "1825ecfe",
   "metadata": {},
   "outputs": [
    {
     "name": "stdout",
     "output_type": "stream",
     "text": [
      "x_mean= 8.181151041666668\n",
      "y_mean= 5.716709375000001\n"
     ]
    }
   ],
   "source": [
    "x_mean=df['1'].mean()\n",
    "y_mean=df['2'].mean()\n",
    "print(\"x_mean=\",x_mean)\n",
    "print(\"y_mean=\",y_mean)"
   ]
  },
  {
   "cell_type": "code",
   "execution_count": 38,
   "id": "f6c9b27a",
   "metadata": {},
   "outputs": [
    {
     "data": {
      "text/html": [
       "<div>\n",
       "<style scoped>\n",
       "    .dataframe tbody tr th:only-of-type {\n",
       "        vertical-align: middle;\n",
       "    }\n",
       "\n",
       "    .dataframe tbody tr th {\n",
       "        vertical-align: top;\n",
       "    }\n",
       "\n",
       "    .dataframe thead th {\n",
       "        text-align: right;\n",
       "    }\n",
       "</style>\n",
       "<table border=\"1\" class=\"dataframe\">\n",
       "  <thead>\n",
       "    <tr style=\"text-align: right;\">\n",
       "      <th></th>\n",
       "      <th>1</th>\n",
       "      <th>2</th>\n",
       "      <th>x-x_mean</th>\n",
       "      <th>y-y_mean</th>\n",
       "      <th>(x-x_mean)*(y-y_mean)</th>\n",
       "      <th>(x-x_mean)^2</th>\n",
       "      <th>(y-y_mean)^2</th>\n",
       "    </tr>\n",
       "  </thead>\n",
       "  <tbody>\n",
       "    <tr>\n",
       "      <th>0</th>\n",
       "      <td>5.5277</td>\n",
       "      <td>9.13020</td>\n",
       "      <td>-2.653451</td>\n",
       "      <td>3.413491</td>\n",
       "      <td>-9.057530</td>\n",
       "      <td>7.040802</td>\n",
       "      <td>11.651918</td>\n",
       "    </tr>\n",
       "    <tr>\n",
       "      <th>1</th>\n",
       "      <td>8.5186</td>\n",
       "      <td>13.66200</td>\n",
       "      <td>0.337449</td>\n",
       "      <td>7.945291</td>\n",
       "      <td>2.681130</td>\n",
       "      <td>0.113872</td>\n",
       "      <td>63.127643</td>\n",
       "    </tr>\n",
       "    <tr>\n",
       "      <th>2</th>\n",
       "      <td>7.0032</td>\n",
       "      <td>11.85400</td>\n",
       "      <td>-1.177951</td>\n",
       "      <td>6.137291</td>\n",
       "      <td>-7.229428</td>\n",
       "      <td>1.387569</td>\n",
       "      <td>37.666336</td>\n",
       "    </tr>\n",
       "    <tr>\n",
       "      <th>3</th>\n",
       "      <td>5.8598</td>\n",
       "      <td>6.82330</td>\n",
       "      <td>-2.321351</td>\n",
       "      <td>1.106591</td>\n",
       "      <td>-2.568785</td>\n",
       "      <td>5.388671</td>\n",
       "      <td>1.224543</td>\n",
       "    </tr>\n",
       "    <tr>\n",
       "      <th>4</th>\n",
       "      <td>8.3829</td>\n",
       "      <td>11.88600</td>\n",
       "      <td>0.201749</td>\n",
       "      <td>6.169291</td>\n",
       "      <td>1.244648</td>\n",
       "      <td>0.040703</td>\n",
       "      <td>38.060147</td>\n",
       "    </tr>\n",
       "    <tr>\n",
       "      <th>...</th>\n",
       "      <td>...</td>\n",
       "      <td>...</td>\n",
       "      <td>...</td>\n",
       "      <td>...</td>\n",
       "      <td>...</td>\n",
       "      <td>...</td>\n",
       "      <td>...</td>\n",
       "    </tr>\n",
       "    <tr>\n",
       "      <th>91</th>\n",
       "      <td>5.8707</td>\n",
       "      <td>7.20290</td>\n",
       "      <td>-2.310451</td>\n",
       "      <td>1.486191</td>\n",
       "      <td>-3.433771</td>\n",
       "      <td>5.338184</td>\n",
       "      <td>2.208763</td>\n",
       "    </tr>\n",
       "    <tr>\n",
       "      <th>92</th>\n",
       "      <td>5.3054</td>\n",
       "      <td>1.98690</td>\n",
       "      <td>-2.875751</td>\n",
       "      <td>-3.729809</td>\n",
       "      <td>10.726003</td>\n",
       "      <td>8.269944</td>\n",
       "      <td>13.911478</td>\n",
       "    </tr>\n",
       "    <tr>\n",
       "      <th>93</th>\n",
       "      <td>8.2934</td>\n",
       "      <td>0.14454</td>\n",
       "      <td>0.112249</td>\n",
       "      <td>-5.572169</td>\n",
       "      <td>-0.625470</td>\n",
       "      <td>0.012600</td>\n",
       "      <td>31.049072</td>\n",
       "    </tr>\n",
       "    <tr>\n",
       "      <th>94</th>\n",
       "      <td>13.3940</td>\n",
       "      <td>9.05510</td>\n",
       "      <td>5.212849</td>\n",
       "      <td>3.338391</td>\n",
       "      <td>17.402526</td>\n",
       "      <td>27.173794</td>\n",
       "      <td>11.144852</td>\n",
       "    </tr>\n",
       "    <tr>\n",
       "      <th>95</th>\n",
       "      <td>5.4369</td>\n",
       "      <td>0.61705</td>\n",
       "      <td>-2.744251</td>\n",
       "      <td>-5.099659</td>\n",
       "      <td>13.994746</td>\n",
       "      <td>7.530914</td>\n",
       "      <td>26.006526</td>\n",
       "    </tr>\n",
       "  </tbody>\n",
       "</table>\n",
       "<p>96 rows × 7 columns</p>\n",
       "</div>"
      ],
      "text/plain": [
       "          1         2  x-x_mean  y-y_mean  (x-x_mean)*(y-y_mean)  \\\n",
       "0    5.5277   9.13020 -2.653451  3.413491              -9.057530   \n",
       "1    8.5186  13.66200  0.337449  7.945291               2.681130   \n",
       "2    7.0032  11.85400 -1.177951  6.137291              -7.229428   \n",
       "3    5.8598   6.82330 -2.321351  1.106591              -2.568785   \n",
       "4    8.3829  11.88600  0.201749  6.169291               1.244648   \n",
       "..      ...       ...       ...       ...                    ...   \n",
       "91   5.8707   7.20290 -2.310451  1.486191              -3.433771   \n",
       "92   5.3054   1.98690 -2.875751 -3.729809              10.726003   \n",
       "93   8.2934   0.14454  0.112249 -5.572169              -0.625470   \n",
       "94  13.3940   9.05510  5.212849  3.338391              17.402526   \n",
       "95   5.4369   0.61705 -2.744251 -5.099659              13.994746   \n",
       "\n",
       "    (x-x_mean)^2  (y-y_mean)^2  \n",
       "0       7.040802     11.651918  \n",
       "1       0.113872     63.127643  \n",
       "2       1.387569     37.666336  \n",
       "3       5.388671      1.224543  \n",
       "4       0.040703     38.060147  \n",
       "..           ...           ...  \n",
       "91      5.338184      2.208763  \n",
       "92      8.269944     13.911478  \n",
       "93      0.012600     31.049072  \n",
       "94     27.173794     11.144852  \n",
       "95      7.530914     26.006526  \n",
       "\n",
       "[96 rows x 7 columns]"
      ]
     },
     "execution_count": 38,
     "metadata": {},
     "output_type": "execute_result"
    }
   ],
   "source": [
    "df['x-x_mean']=df['1']-x_mean\n",
    "df['y-y_mean']=df['2']-y_mean\n",
    "df['(x-x_mean)*(y-y_mean)']=df['x-x_mean']*df['y-y_mean']\n",
    "df['(x-x_mean)^2']=df['x-x_mean']**2\n",
    "df['(y-y_mean)^2']=df['y-y_mean']**2\n",
    "df\n"
   ]
  },
  {
   "cell_type": "code",
   "execution_count": 39,
   "id": "3e144dff",
   "metadata": {},
   "outputs": [
    {
     "name": "stdout",
     "output_type": "stream",
     "text": [
      "Σ(x-x_mean)*(y-y_mean)= 1739.5603117330625\n",
      "Σ(x-x_mean)^2 1433.4508245398956\n",
      "Σ(y-y_mean)^2 2775.2783647179626\n"
     ]
    }
   ],
   "source": [
    "summation_column3=df['(x-x_mean)*(y-y_mean)'].sum()\n",
    "summation_column4=df['(x-x_mean)^2'].sum()\n",
    "summation_column5=df['(y-y_mean)^2'].sum()\n",
    "print(\"Σ(x-x_mean)*(y-y_mean)=\",summation_column3)\n",
    "print(\"Σ(x-x_mean)^2\",summation_column4)\n",
    "print(\"Σ(y-y_mean)^2\",summation_column5)"
   ]
  },
  {
   "cell_type": "code",
   "execution_count": 40,
   "id": "ad4ce782",
   "metadata": {
    "scrolled": true
   },
   "outputs": [
    {
     "name": "stdout",
     "output_type": "stream",
     "text": [
      "corelation coefficient= 0.8721572919685902\n"
     ]
    }
   ],
   "source": [
    "corelation_coefficient=(summation_column3)/(summation_column4*summation_column5)**0.5\n",
    "print(\"corelation coefficient=\",corelation_coefficient)"
   ]
  },
  {
   "cell_type": "code",
   "execution_count": 81,
   "id": "e56c4330",
   "metadata": {},
   "outputs": [],
   "source": [
    "def getMean(numbers):\n",
    " if len(numbers) == 0:\n",
    "  return None\n",
    " else:\n",
    "  current_sum = 0\n",
    " for i in numbers:\n",
    "  current_sum += i\n",
    " current_avg = current_sum/len(numbers)\n",
    " return current_avg"
   ]
  },
  {
   "cell_type": "code",
   "execution_count": 82,
   "id": "10eb9954",
   "metadata": {},
   "outputs": [],
   "source": [
    "def getStandardDeviation(numbers):\n",
    " if len(numbers) == 0:\n",
    "  return 0\n",
    " else:\n",
    "  mean = getMean(numbers)\n",
    "  std_deviation = 0\n",
    " for i in numbers:\n",
    "  std_deviation += (i - mean)**2\n",
    " return (std_deviation/len(numbers))**0.5"
   ]
  },
  {
   "cell_type": "code",
   "execution_count": 86,
   "id": "04f766b6",
   "metadata": {
    "scrolled": true
   },
   "outputs": [
    {
     "name": "stdout",
     "output_type": "stream",
     "text": [
      "3.8641660707441887 5.37672294548257\n"
     ]
    }
   ],
   "source": [
    "std_deviation_x = getstandardDeviation(df['x-x_mean'].tolist())\n",
    "std_deviation_y = getstandardDeviation(df['y-y_mean'].tolist())\n",
    "print(std_deviation_x, std_deviation_y)\n"
   ]
  },
  {
   "cell_type": "code",
   "execution_count": 87,
   "id": "eb49a018",
   "metadata": {},
   "outputs": [
    {
     "name": "stdout",
     "output_type": "stream",
     "text": [
      "m= 1.2135472539083578\n"
     ]
    }
   ],
   "source": [
    "m=corelation_coefficient*(std_deviation_y/std_deviation_x)\n",
    "print(\"m=\",m)"
   ]
  },
  {
   "cell_type": "code",
   "execution_count": 88,
   "id": "7f801aba",
   "metadata": {},
   "outputs": [
    {
     "name": "stdout",
     "output_type": "stream",
     "text": [
      "c= -4.211504005424086\n"
     ]
    }
   ],
   "source": [
    "c=df['2'].mean()-m*df['1'].mean()\n",
    "print(\"c=\",c)"
   ]
  },
  {
   "cell_type": "code",
   "execution_count": 89,
   "id": "2d888d2f",
   "metadata": {},
   "outputs": [
    {
     "data": {
      "text/html": [
       "<div>\n",
       "<style scoped>\n",
       "    .dataframe tbody tr th:only-of-type {\n",
       "        vertical-align: middle;\n",
       "    }\n",
       "\n",
       "    .dataframe tbody tr th {\n",
       "        vertical-align: top;\n",
       "    }\n",
       "\n",
       "    .dataframe thead th {\n",
       "        text-align: right;\n",
       "    }\n",
       "</style>\n",
       "<table border=\"1\" class=\"dataframe\">\n",
       "  <thead>\n",
       "    <tr style=\"text-align: right;\">\n",
       "      <th></th>\n",
       "      <th>1</th>\n",
       "      <th>2</th>\n",
       "      <th>x-x_mean</th>\n",
       "      <th>y-y_mean</th>\n",
       "      <th>(x-x_mean)*(y-y_mean)</th>\n",
       "      <th>(x-x_mean)^2</th>\n",
       "      <th>(y-y_mean)^2</th>\n",
       "      <th>y_predicted</th>\n",
       "    </tr>\n",
       "  </thead>\n",
       "  <tbody>\n",
       "    <tr>\n",
       "      <th>0</th>\n",
       "      <td>5.5277</td>\n",
       "      <td>9.13020</td>\n",
       "      <td>-2.653451</td>\n",
       "      <td>3.413491</td>\n",
       "      <td>-9.057530</td>\n",
       "      <td>7.040802</td>\n",
       "      <td>11.651918</td>\n",
       "      <td>2.496621</td>\n",
       "    </tr>\n",
       "    <tr>\n",
       "      <th>1</th>\n",
       "      <td>8.5186</td>\n",
       "      <td>13.66200</td>\n",
       "      <td>0.337449</td>\n",
       "      <td>7.945291</td>\n",
       "      <td>2.681130</td>\n",
       "      <td>0.113872</td>\n",
       "      <td>63.127643</td>\n",
       "      <td>6.126220</td>\n",
       "    </tr>\n",
       "    <tr>\n",
       "      <th>2</th>\n",
       "      <td>7.0032</td>\n",
       "      <td>11.85400</td>\n",
       "      <td>-1.177951</td>\n",
       "      <td>6.137291</td>\n",
       "      <td>-7.229428</td>\n",
       "      <td>1.387569</td>\n",
       "      <td>37.666336</td>\n",
       "      <td>4.287210</td>\n",
       "    </tr>\n",
       "    <tr>\n",
       "      <th>3</th>\n",
       "      <td>5.8598</td>\n",
       "      <td>6.82330</td>\n",
       "      <td>-2.321351</td>\n",
       "      <td>1.106591</td>\n",
       "      <td>-2.568785</td>\n",
       "      <td>5.388671</td>\n",
       "      <td>1.224543</td>\n",
       "      <td>2.899640</td>\n",
       "    </tr>\n",
       "    <tr>\n",
       "      <th>4</th>\n",
       "      <td>8.3829</td>\n",
       "      <td>11.88600</td>\n",
       "      <td>0.201749</td>\n",
       "      <td>6.169291</td>\n",
       "      <td>1.244648</td>\n",
       "      <td>0.040703</td>\n",
       "      <td>38.060147</td>\n",
       "      <td>5.961541</td>\n",
       "    </tr>\n",
       "    <tr>\n",
       "      <th>...</th>\n",
       "      <td>...</td>\n",
       "      <td>...</td>\n",
       "      <td>...</td>\n",
       "      <td>...</td>\n",
       "      <td>...</td>\n",
       "      <td>...</td>\n",
       "      <td>...</td>\n",
       "      <td>...</td>\n",
       "    </tr>\n",
       "    <tr>\n",
       "      <th>91</th>\n",
       "      <td>5.8707</td>\n",
       "      <td>7.20290</td>\n",
       "      <td>-2.310451</td>\n",
       "      <td>1.486191</td>\n",
       "      <td>-3.433771</td>\n",
       "      <td>5.338184</td>\n",
       "      <td>2.208763</td>\n",
       "      <td>2.912868</td>\n",
       "    </tr>\n",
       "    <tr>\n",
       "      <th>92</th>\n",
       "      <td>5.3054</td>\n",
       "      <td>1.98690</td>\n",
       "      <td>-2.875751</td>\n",
       "      <td>-3.729809</td>\n",
       "      <td>10.726003</td>\n",
       "      <td>8.269944</td>\n",
       "      <td>13.911478</td>\n",
       "      <td>2.226850</td>\n",
       "    </tr>\n",
       "    <tr>\n",
       "      <th>93</th>\n",
       "      <td>8.2934</td>\n",
       "      <td>0.14454</td>\n",
       "      <td>0.112249</td>\n",
       "      <td>-5.572169</td>\n",
       "      <td>-0.625470</td>\n",
       "      <td>0.012600</td>\n",
       "      <td>31.049072</td>\n",
       "      <td>5.852929</td>\n",
       "    </tr>\n",
       "    <tr>\n",
       "      <th>94</th>\n",
       "      <td>13.3940</td>\n",
       "      <td>9.05510</td>\n",
       "      <td>5.212849</td>\n",
       "      <td>3.338391</td>\n",
       "      <td>17.402526</td>\n",
       "      <td>27.173794</td>\n",
       "      <td>11.144852</td>\n",
       "      <td>12.042748</td>\n",
       "    </tr>\n",
       "    <tr>\n",
       "      <th>95</th>\n",
       "      <td>5.4369</td>\n",
       "      <td>0.61705</td>\n",
       "      <td>-2.744251</td>\n",
       "      <td>-5.099659</td>\n",
       "      <td>13.994746</td>\n",
       "      <td>7.530914</td>\n",
       "      <td>26.006526</td>\n",
       "      <td>2.386431</td>\n",
       "    </tr>\n",
       "  </tbody>\n",
       "</table>\n",
       "<p>96 rows × 8 columns</p>\n",
       "</div>"
      ],
      "text/plain": [
       "          1         2  x-x_mean  y-y_mean  (x-x_mean)*(y-y_mean)  \\\n",
       "0    5.5277   9.13020 -2.653451  3.413491              -9.057530   \n",
       "1    8.5186  13.66200  0.337449  7.945291               2.681130   \n",
       "2    7.0032  11.85400 -1.177951  6.137291              -7.229428   \n",
       "3    5.8598   6.82330 -2.321351  1.106591              -2.568785   \n",
       "4    8.3829  11.88600  0.201749  6.169291               1.244648   \n",
       "..      ...       ...       ...       ...                    ...   \n",
       "91   5.8707   7.20290 -2.310451  1.486191              -3.433771   \n",
       "92   5.3054   1.98690 -2.875751 -3.729809              10.726003   \n",
       "93   8.2934   0.14454  0.112249 -5.572169              -0.625470   \n",
       "94  13.3940   9.05510  5.212849  3.338391              17.402526   \n",
       "95   5.4369   0.61705 -2.744251 -5.099659              13.994746   \n",
       "\n",
       "    (x-x_mean)^2  (y-y_mean)^2  y_predicted  \n",
       "0       7.040802     11.651918     2.496621  \n",
       "1       0.113872     63.127643     6.126220  \n",
       "2       1.387569     37.666336     4.287210  \n",
       "3       5.388671      1.224543     2.899640  \n",
       "4       0.040703     38.060147     5.961541  \n",
       "..           ...           ...          ...  \n",
       "91      5.338184      2.208763     2.912868  \n",
       "92      8.269944     13.911478     2.226850  \n",
       "93      0.012600     31.049072     5.852929  \n",
       "94     27.173794     11.144852    12.042748  \n",
       "95      7.530914     26.006526     2.386431  \n",
       "\n",
       "[96 rows x 8 columns]"
      ]
     },
     "execution_count": 89,
     "metadata": {},
     "output_type": "execute_result"
    }
   ],
   "source": [
    "df['y_predicted']=m*df['1']+c\n",
    "df"
   ]
  },
  {
   "cell_type": "code",
   "execution_count": 91,
   "id": "182b2ae9",
   "metadata": {},
   "outputs": [
    {
     "data": {
      "image/png": "[encoded data removed]",
      "text/plain": [
       "<Figure size 640x480 with 1 Axes>"
      ]
     },
     "metadata": {},
     "output_type": "display_data"
    }
   ],
   "source": [
    "plot1=plt.scatter(df['1'],df['2'])\n",
    "plot2=plt.plot(df['1'],df['y_predicted'],color='y')\n",
    "plt.show()"
   ]
  },
  {
   "cell_type": "code",
   "execution_count": 93,
   "id": "51ff2adf",
   "metadata": {},
   "outputs": [
    {
     "data": {
      "text/plain": [
       "2111.0386393116246"
      ]
     },
     "execution_count": 93,
     "metadata": {},
     "output_type": "execute_result"
    }
   ],
   "source": [
    "SSR=sum((df['y_predicted']-y_mean)**2)\n",
    "SSR\n"
   ]
  },
  {
   "cell_type": "code",
   "execution_count": 97,
   "id": "b05c9691",
   "metadata": {},
   "outputs": [
    {
     "data": {
      "text/plain": [
       "664.2397254063369"
      ]
     },
     "execution_count": 97,
     "metadata": {},
     "output_type": "execute_result"
    }
   ],
   "source": [
    "SSE=((df['2']-df['y_predicted'])**2).sum()\n",
    "SSE"
   ]
  },
  {
   "cell_type": "code",
   "execution_count": 98,
   "id": "919db7dd",
   "metadata": {},
   "outputs": [
    {
     "data": {
      "text/plain": [
       "2775.2783647179617"
      ]
     },
     "execution_count": 98,
     "metadata": {},
     "output_type": "execute_result"
    }
   ],
   "source": [
    "SST=sum((df['2']-y_mean)**2)\n",
    "SST"
   ]
  },
  {
   "cell_type": "code",
   "execution_count": 101,
   "id": "3c7ef3a4",
   "metadata": {},
   "outputs": [
    {
     "data": {
      "text/plain": [
       "2775.2783647179613"
      ]
     },
     "execution_count": 101,
     "metadata": {},
     "output_type": "execute_result"
    }
   ],
   "source": [
    "tss_new=SSE+SSR\n",
    "tss_new"
   ]
  },
  {
   "cell_type": "code",
   "execution_count": 102,
   "id": "890a8b20",
   "metadata": {},
   "outputs": [
    {
     "data": {
      "text/plain": [
       "6.91916380631601"
      ]
     },
     "execution_count": 102,
     "metadata": {},
     "output_type": "execute_result"
    }
   ],
   "source": [
    "cost=SSE/96\n",
    "cost"
   ]
  },
  {
   "cell_type": "code",
   "execution_count": null,
   "id": "884388d2",
   "metadata": {},
   "outputs": [],
   "source": []
  }
 ],
 "metadata": {
  "kernelspec": {
   "display_name": "Python 3 (ipykernel)",
   "language": "python",
   "name": "python3"
  },
  "language_info": {
   "codemirror_mode": {
    "name": "ipython",
    "version": 3
   },
   "file_extension": ".py",
   "mimetype": "text/x-python",
   "name": "python",
   "nbconvert_exporter": "python",
   "pygments_lexer": "ipython3",
   "version": "3.10.4"
  }
 },
 "nbformat": 4,
 "nbformat_minor": 5
}
