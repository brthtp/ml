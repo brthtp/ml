{
 "cells": [
  {
   "cell_type": "code",
   "execution_count": 1,
   "id": "c7f5f1dc",
   "metadata": {},
   "outputs": [],
   "source": [
    "arr=[115.3, 195.5, 120.5, 110.2, 90.4, 105.6, 110.9, 116.3, 122.3,125.4]\n"
   ]
  },
  {
   "cell_type": "code",
   "execution_count": 2,
   "id": "63e46272",
   "metadata": {},
   "outputs": [
    {
     "name": "stdout",
     "output_type": "stream",
     "text": [
      "Mean= 121.24000000000001\n"
     ]
    }
   ],
   "source": [
    "sum=0\n",
    "for i in range(0,len(arr)):\n",
    " sum=sum+arr[i]\n",
    "mean=sum/len(arr)\n",
    "print(\"Mean=\",mean)"
   ]
  },
  {
   "cell_type": "code",
   "execution_count": 3,
   "id": "32defd24",
   "metadata": {},
   "outputs": [
    {
     "name": "stdout",
     "output_type": "stream",
     "text": [
      "median= 98.0\n"
     ]
    }
   ],
   "source": [
    "n=len(arr)\n",
    "\n",
    "if(n%2!=0):\n",
    "    median=arr[int(n-1)/2]\n",
    "else:\n",
    "    median=(arr[int((n-1)/2)]+arr[int(n/2)])/2\n",
    "print(\"median=\",median)"
   ]
  },
  {
   "cell_type": "code",
   "execution_count": 4,
   "id": "8321f20c",
   "metadata": {},
   "outputs": [],
   "source": [
    "def mode(arr):\n",
    "    dcount={}\n",
    "    maxcount=0\n",
    "    for num in arr:\n",
    "     if num not in dcount:\n",
    "      dcount[num]=0\n",
    "     dcount[num]=dcount[num]+1\n",
    "     if dcount[num]>maxcount:\n",
    "      maxcount=dcount[num]\n",
    "    for num,dcount in dcount.items():\n",
    "     if(dcount==maxcount):\n",
    "      print(num)"
   ]
  },
  {
   "cell_type": "code",
   "execution_count": 7,
   "id": "ab1228f2",
   "metadata": {
    "scrolled": true
   },
   "outputs": [
    {
     "name": "stdout",
     "output_type": "stream",
     "text": [
      "115.3\n",
      "195.5\n",
      "120.5\n",
      "110.2\n",
      "90.4\n",
      "105.6\n",
      "110.9\n",
      "116.3\n",
      "122.3\n",
      "125.4\n"
     ]
    }
   ],
   "source": [
    "mode([115.3, 195.5, 120.5, 110.2, 90.4, 105.6, 110.9, 116.3, 122.3,125.4,])"
   ]
  },
  {
   "cell_type": "code",
   "execution_count": 15,
   "id": "a730f54a",
   "metadata": {},
   "outputs": [],
   "source": [
    "def std_deviation(numbers):\n",
    " if len(numbers) == 0:\n",
    "  return 0\n",
    " else:\n",
    "  std_deviation = 0\n",
    " for i in numbers:\n",
    "  std_deviation += (i - mean)**2\n",
    " return (std_deviation/len(numbers))**0.5"
   ]
  },
  {
   "cell_type": "code",
   "execution_count": 16,
   "id": "e7c66688",
   "metadata": {},
   "outputs": [
    {
     "name": "stdout",
     "output_type": "stream",
     "text": [
      "standard deviation= 26.490987146574962\n"
     ]
    }
   ],
   "source": [
    "std_deviation_x = std_deviation(arr)\n",
    "print(\"standard deviation=\",std_deviation_x )"
   ]
  },
  {
   "cell_type": "code",
   "execution_count": 104,
   "id": "48629633",
   "metadata": {},
   "outputs": [
    {
     "name": "stdout",
     "output_type": "stream",
     "text": [
      "Variance= 701.7723999999998\n"
     ]
    }
   ],
   "source": [
    "print(\"Variance=\",(std_deviation_x )**2)"
   ]
  },
  {
   "cell_type": "code",
   "execution_count": 140,
   "id": "b44672ef",
   "metadata": {},
   "outputs": [],
   "source": [
    "X_min=min(arr)\n",
    "X_max=max(arr)"
   ]
  },
  {
   "cell_type": "code",
   "execution_count": 147,
   "id": "fc0f94e5",
   "metadata": {},
   "outputs": [
    {
     "data": {
      "text/plain": [
       "[0.0,\n",
       " 0.14462416745956222,\n",
       " 0.18839200761179828,\n",
       " 0.1950523311132255,\n",
       " 0.23691722169362506,\n",
       " 0.24643196955280677,\n",
       " 0.2863939105613701,\n",
       " 0.3035204567078972,\n",
       " 0.3330161750713606,\n",
       " 1.0]"
      ]
     },
     "execution_count": 147,
     "metadata": {},
     "output_type": "execute_result"
    }
   ],
   "source": [
    "array=[]\n",
    "for i in arr:\n",
    "     ele=(i-X_min)/(X_max-X_min)\n",
    "     array.append(ele)\n",
    "array"
   ]
  },
  {
   "cell_type": "code",
   "execution_count": 146,
   "id": "521d008a",
   "metadata": {},
   "outputs": [
    {
     "data": {
      "text/plain": [
       "[-1.164169527898749,\n",
       " -0.5903894752378875,\n",
       " -0.4167455119326263,\n",
       " -0.3903214305600865,\n",
       " -0.22422720478983732,\n",
       " -0.18647851711478058,\n",
       " -0.02793402887954231,\n",
       " 0.040013608935559664,\n",
       " 0.15703454072823578,\n",
       " 2.803217546749711]"
      ]
     },
     "execution_count": 146,
     "metadata": {},
     "output_type": "execute_result"
    }
   ],
   "source": [
    "barray=[]\n",
    "for i in arr:\n",
    "     ele=(i-mean)/std_deviation_x\n",
    "     barray.append(ele)\n",
    "barray"
   ]
  }
 ],
 "metadata": {
  "kernelspec": {
   "display_name": "Python 3 (ipykernel)",
   "language": "python",
   "name": "python3"
  },
  "language_info": {
   "codemirror_mode": {
    "name": "ipython",
    "version": 3
   },
   "file_extension": ".py",
   "mimetype": "text/x-python",
   "name": "python",
   "nbconvert_exporter": "python",
   "pygments_lexer": "ipython3",
   "version": "3.10.4"
  }
 },
 "nbformat": 4,
 "nbformat_minor": 5
}
