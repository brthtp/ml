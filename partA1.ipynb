{
 "cells": [
  {
   "cell_type": "code",
   "execution_count": 3,
   "id": "c5fe95eb",
   "metadata": {},
   "outputs": [
    {
     "name": "stdout",
     "output_type": "stream",
     "text": [
      "[2, 3, 5, 6, 8, 9, 19]\n",
      "mean is 7.428571428571429\n"
     ]
    }
   ],
   "source": [
    "x=[2,3,5,6,8,9,19]\n",
    "print(x)\n",
    "n=len(x)\n",
    "get_sum=sum(x)\n",
    "mean=sum(x)/len(x)\n",
    "print(\"mean is \"+str(mean))"
   ]
  },
  {
   "cell_type": "code",
   "execution_count": 2,
   "id": "205e1879",
   "metadata": {},
   "outputs": [
    {
     "name": "stdout",
     "output_type": "stream",
     "text": [
      "median:6\n"
     ]
    }
   ],
   "source": [
    "x.sort()\n",
    "if len(x)%2==0:\n",
    "  fmedian=x[len(x)/2]\n",
    "  smedian=x[(len(x)+2)/2]\n",
    "  median=fmedian+smedian\n",
    "  print(\"median\"+str(median))\n",
    "else:\n",
    "   median=x[len(x)//2]\n",
    "   print(\"median:\"+str(median)) "
   ]
  },
  {
   "cell_type": "code",
   "execution_count": 5,
   "id": "aa191631",
   "metadata": {},
   "outputs": [
    {
     "name": "stdout",
     "output_type": "stream",
     "text": [
      "7\n",
      "27.6734693877551\n",
      "deviation:5.260557897006277\n"
     ]
    }
   ],
   "source": [
    "x=[2,3,5,6,8,9,19]\n",
    "mean = sum(x) / len(x)\n",
    "print(n)\n",
    "var = sum((i-mean)**2 for i in x) / len(x)\n",
    "print(var)\n",
    "dev=var**0.5\n",
    "print(\"deviation:\"+str(dev))"
   ]
  },
  {
   "cell_type": "code",
   "execution_count": 4,
   "id": "1daec7c2",
   "metadata": {},
   "outputs": [
    {
     "name": "stdout",
     "output_type": "stream",
     "text": [
      "2\n"
     ]
    }
   ],
   "source": [
    "dataList=[2,2,5,6,2,6,19]\n",
    "dataList.sort()\n",
    "position = 0\n",
    "largestCount = 0\n",
    "listLength = len(dataList)\n",
    "while(position < listLength):     #Definitely a better idea to use *for* here\n",
    "        count = dataList.count(dataList[position])\n",
    "        if(count > largestCount):\n",
    "            largestCount = count\n",
    "            valuePosition = dataList[position]\n",
    "        position += count\n",
    "print(dataList[valuePosition])"
   ]
  },
  {
   "cell_type": "code",
   "execution_count": 5,
   "id": "0dd21291",
   "metadata": {},
   "outputs": [
    {
     "name": "stdout",
     "output_type": "stream",
     "text": [
      "0.0\n",
      "0.058823529411764705\n",
      "0.17647058823529413\n",
      "0.23529411764705882\n",
      "0.35294117647058826\n",
      "0.4117647058823529\n",
      "1.0\n"
     ]
    }
   ],
   "source": [
    "x=[2,3,5,6,8,9,19]\n",
    "mini=min(x)\n",
    "maxi=max(x)\n",
    "for i in x:\n",
    "  norm = (i-mini)/(maxi-mini)\n",
    "  print(norm)"
   ]
  },
  {
   "cell_type": "code",
   "execution_count": null,
   "id": "ac435a39",
   "metadata": {},
   "outputs": [],
   "source": []
  }
 ],
 "metadata": {
  "kernelspec": {
   "display_name": "Python 3 (ipykernel)",
   "language": "python",
   "name": "python3"
  },
  "language_info": {
   "codemirror_mode": {
    "name": "ipython",
    "version": 3
   },
   "file_extension": ".py",
   "mimetype": "text/x-python",
   "name": "python",
   "nbconvert_exporter": "python",
   "pygments_lexer": "ipython3",
   "version": "3.9.12"
  }
 },
 "nbformat": 4,
 "nbformat_minor": 5
}
